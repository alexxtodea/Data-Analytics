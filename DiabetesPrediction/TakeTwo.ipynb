{
 "cells": [
  {
   "cell_type": "code",
   "execution_count": 33,
   "metadata": {},
   "outputs": [],
   "source": [
    "import pandas as pd\n",
    "import numpy as np\n",
    "\n",
    "from matplotlib import figure\n",
    "import matplotlib.pyplot as plt\n",
    "import seaborn as sns\n",
    "\n",
    "from imblearn.over_sampling import RandomOverSampler\n",
    "from imblearn.under_sampling import RandomUnderSampler\n",
    "from sklearn.metrics import classification_report, accuracy_score\n",
    "\n",
    "from sklearn.datasets import make_classification\n",
    "from sklearn.model_selection import train_test_split\n",
    "from sklearn.linear_model import LogisticRegression\n",
    "from sklearn.metrics import classification_report\n",
    "\n",
    "from sklearn.tree import DecisionTreeClassifier\n",
    "from sklearn.model_selection import GridSearchCV\n",
    "\n",
    "from sklearn.calibration import LabelEncoder\n",
    "from sklearn.preprocessing import OneHotEncoder\n",
    "from sklearn.metrics import roc_curve, auc\n",
    "\n",
    "diabetesds = pd.read_csv('diabetes_prediction_dataset.csv')"
   ]
  },
  {
   "attachments": {},
   "cell_type": "markdown",
   "metadata": {},
   "source": [
    "***\n",
    "### Further investigation\n",
    "\n",
    "To know why our performance is not optimal were going to do a fast track through what we created in the Diabetes.ipynb"
   ]
  },
  {
   "cell_type": "code",
   "execution_count": 34,
   "metadata": {},
   "outputs": [],
   "source": [
    "X = diabetesds.drop('diabetes', axis=1)  \n",
    "y = diabetesds['diabetes']\n",
    "\n",
    "categorical_columns = ['gender', 'smoking_history']\n",
    "onehot_encoder = OneHotEncoder(drop='first', sparse=False)\n",
    "X_encoded = pd.DataFrame(onehot_encoder.fit_transform(X[categorical_columns]))\n",
    "\n",
    "X_encoded.columns = onehot_encoder.get_feature_names_out(categorical_columns)\n",
    "X_encoded = pd.concat([X_encoded, X.select_dtypes(include=['float64'])], axis=1)\n",
    "\n",
    "label_encoder = LabelEncoder()\n",
    "categorical_columns = ['gender', 'smoking_history']\n",
    "diabetesds[categorical_columns] = diabetesds[categorical_columns].apply(lambda x: label_encoder.fit_transform(x))"
   ]
  },
  {
   "attachments": {},
   "cell_type": "markdown",
   "metadata": {},
   "source": [
    "***\n",
    "I'm just going to make sure everything is converted in numericals so we dont run into issues whith modeling where we need numerical values. \n",
    "\n",
    "I've talked to a student about the possibilities of why the performance would be so low and he suggested to look at the outliers. So let's look at a few columns.\n",
    "***"
   ]
  },
  {
   "cell_type": "code",
   "execution_count": 41,
   "metadata": {},
   "outputs": [
    {
     "data": {
      "image/png": "[encoded data removed]",
      "text/plain": [
       "<Figure size 640x480 with 1 Axes>"
      ]
     },
     "metadata": {},
     "output_type": "display_data"
    }
   ],
   "source": [
    "sns.boxplot(data=diabetesds[['smoking_history', 'bmi', 'HbA1c_level']])\n",
    "plt.title(\"Outliers Detection\")\n",
    "plt.xlabel(\"Data\")\n",
    "plt.show()"
   ]
  },
  {
   "attachments": {},
   "cell_type": "markdown",
   "metadata": {},
   "source": [
    "***\n",
    "As we can see there are some outliers. So my plan is to first split the dataset into train and test, then we'll undersample the dataset just as we have done in the other project. Then we will remove the outliers by using the IQR which removes outliers by a range. the IQR is the duifference between Q3 and Q1."
   ]
  },
  {
   "cell_type": "code",
   "execution_count": 35,
   "metadata": {},
   "outputs": [
    {
     "name": "stdout",
     "output_type": "stream",
     "text": [
      "Accuracy: 0.92665\n"
     ]
    }
   ],
   "source": [
    "X_train, X_test, y_train, y_test = train_test_split(X_encoded, y, test_size=0.2, random_state=42)\n",
    "\n",
    "# Create the decision tree classifier\n",
    "classifier = DecisionTreeClassifier()\n",
    "\n",
    "# Train the classifier on the training data\n",
    "classifier.fit(X_train, y_train)\n",
    "\n",
    "# Make predictions on the testing data\n",
    "predictions = classifier.predict(X_test)\n",
    "\n",
    "# Calculate the accuracy of the classifier\n",
    "accuracy = accuracy_score(y_test, predictions)\n",
    "print(\"Accuracy:\", accuracy)"
   ]
  },
  {
   "attachments": {},
   "cell_type": "markdown",
   "metadata": {},
   "source": [
    "*** \n",
    "here we undersample"
   ]
  },
  {
   "cell_type": "code",
   "execution_count": 36,
   "metadata": {},
   "outputs": [
    {
     "name": "stdout",
     "output_type": "stream",
     "text": [
      "              precision    recall  f1-score   support\n",
      "\n",
      "           0       0.98      1.00      0.99      6792\n",
      "           1       1.00      0.98      0.99      6792\n",
      "\n",
      "    accuracy                           0.99     13584\n",
      "   macro avg       0.99      0.99      0.99     13584\n",
      "weighted avg       0.99      0.99      0.99     13584\n",
      "\n"
     ]
    }
   ],
   "source": [
    "rus = RandomUnderSampler(random_state=42)\n",
    "\n",
    "X_train_undersampled, y_train_undersampled = rus.fit_resample(X_train, y_train)\n",
    "\n",
    "classifier.fit(X_train_undersampled, y_train_undersampled)\n",
    "\n",
    "y_pred = classifier.predict(X_train_undersampled)\n",
    "print(classification_report(y_train_undersampled, y_pred))"
   ]
  },
  {
   "attachments": {},
   "cell_type": "markdown",
   "metadata": {},
   "source": [
    "*** \n",
    "Let's use the IQR to remove outliers"
   ]
  },
  {
   "cell_type": "code",
   "execution_count": 37,
   "metadata": {},
   "outputs": [
    {
     "data": {
      "text/plain": [
       "DecisionTreeClassifier()"
      ]
     },
     "execution_count": 37,
     "metadata": {},
     "output_type": "execute_result"
    }
   ],
   "source": [
    "Q1 = np.percentile(X_train_undersampled, 25, axis=0)\n",
    "Q3 = np.percentile(X_train_undersampled, 75, axis=0)\n",
    "IQR = Q3 - Q1\n",
    "\n",
    "lower_bound = Q1 - 1.5 * IQR\n",
    "upper_bound = Q3 + 1.5 * IQR\n",
    "outliers_mask = (X_train_undersampled < lower_bound) | (X_train_undersampled > upper_bound)\n",
    "\n",
    "X = X_train_undersampled[~outliers_mask.any(axis=1)]\n",
    "y = y_train_undersampled[~outliers_mask.any(axis=1)]\n",
    "\n",
    "classifier.fit(X, y)"
   ]
  },
  {
   "attachments": {},
   "cell_type": "markdown",
   "metadata": {},
   "source": [
    "***\n",
    "We also need to do the grid search as we did in the other project."
   ]
  },
  {
   "cell_type": "code",
   "execution_count": 38,
   "metadata": {},
   "outputs": [
    {
     "name": "stdout",
     "output_type": "stream",
     "text": [
      "Accuracy: 0.84845\n"
     ]
    }
   ],
   "source": [
    "param_grid =  {    'criterion': ['gini', 'entropy'],\n",
    "    'min_samples_split': [25, 30, 40, 50,54,53,52,55,56,57,60, 70, 80],\n",
    "    'min_samples_leaf': [1, 2, 3, 4 , 5 ,],}   \n",
    "\n",
    "model = DecisionTreeClassifier()\n",
    "\n",
    "# Perform grid search using cross-validation\n",
    "grid_search = GridSearchCV(classifier, param_grid, cv=5)\n",
    "\n",
    "# Fit the grid search to the training data\n",
    "grid_search.fit(X, y)\n",
    "\n",
    "# Get the best hyperparameters and the corresponding model\n",
    "best_params = grid_search.best_params_\n",
    "best_model = grid_search.best_estimator_\n",
    "\n",
    "# Use the best model for predictions\n",
    "predictions = best_model.predict(X_test)\n",
    "\n",
    "# Evaluate the model's performance\n",
    "accuracy = accuracy_score(y_test, predictions)\n",
    "print(\"Accuracy:\", accuracy)"
   ]
  },
  {
   "attachments": {},
   "cell_type": "markdown",
   "metadata": {},
   "source": [
    "***\n",
    "Now, we do the ROC curve and check the score"
   ]
  },
  {
   "cell_type": "code",
   "execution_count": 39,
   "metadata": {},
   "outputs": [
    {
     "name": "stdout",
     "output_type": "stream",
     "text": [
      "Accuracy on entire dataset: 84.85\n",
      "[[3454  499]\n",
      " [ 505 2170]]\n"
     ]
    },
    {
     "data": {
      "image/png": "[encoded data removed]",
      "text/plain": [
       "<Figure size 800x800 with 1 Axes>"
      ]
     },
     "metadata": {},
     "output_type": "display_data"
    },
    {
     "name": "stdout",
     "output_type": "stream",
     "text": [
      "AUC:  0.94\n"
     ]
    }
   ],
   "source": [
    "from sklearn.metrics import confusion_matrix, roc_auc_score\n",
    "\n",
    "\n",
    "entire_data_predictions = best_model.predict(X)\n",
    "\n",
    "print(f'Accuracy on entire dataset: {accuracy_score(entire_data_predictions, y)*100:.2f}')\n",
    "\n",
    "cm = confusion_matrix(y, entire_data_predictions)\n",
    "\n",
    "print(cm)\n",
    "\n",
    "\n",
    "y_pred_proba = best_model.predict_proba(X)[::,1]\n",
    "\n",
    "fpr, tpr, _ = roc_curve(y,  y_pred_proba)\n",
    "\n",
    "\n",
    "plt.figure(figsize=(8,8))\n",
    "\n",
    "plt.plot([0, 1], [0, 1], 'k--')\n",
    "\n",
    "plt.plot(fpr, tpr)\n",
    "\n",
    "plt.xlabel('False Positive Rate')\n",
    "\n",
    "plt.ylabel('True Positive Rate')\n",
    "\n",
    "plt.title('ROC Curve')\n",
    "\n",
    "plt.show()\n",
    "\n",
    "auc = roc_auc_score(y, y_pred_proba)\n",
    "\n",
    "print('AUC: ',round(auc, 2))"
   ]
  },
  {
   "attachments": {},
   "cell_type": "markdown",
   "metadata": {},
   "source": [
    "***\n",
    "This is a great score. score between 0.90 and 1 are good scores which means ours (0.94) is pretty good."
   ]
  },
  {
   "attachments": {},
   "cell_type": "markdown",
   "metadata": {},
   "source": [
    "Now we've learned that if the ROC curve performance does not give you a high score. You can look into the outliers to clean them and make your performance higher."
   ]
  },
  {
   "cell_type": "markdown",
   "metadata": {},
   "source": []
  }
 ],
 "metadata": {
  "kernelspec": {
   "display_name": "DataAnalytics",
   "language": "python",
   "name": "python3"
  },
  "language_info": {
   "codemirror_mode": {
    "name": "ipython",
    "version": 3
   },
   "file_extension": ".py",
   "mimetype": "text/x-python",
   "name": "python",
   "nbconvert_exporter": "python",
   "pygments_lexer": "ipython3",
   "version": "3.9.13"
  },
  "orig_nbformat": 4
 },
 "nbformat": 4,
 "nbformat_minor": 2
}
